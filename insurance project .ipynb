{
 "cells": [
  {
   "cell_type": "code",
   "execution_count": 1,
   "metadata": {},
   "outputs": [],
   "source": [
    "import pandas as pd"
   ]
  },
  {
   "cell_type": "code",
   "execution_count": 167,
   "metadata": {},
   "outputs": [],
   "source": [
    "import numpy as np"
   ]
  },
  {
   "cell_type": "code",
   "execution_count": 2,
   "metadata": {},
   "outputs": [],
   "source": [
    "import matplotlib.pyplot as plt"
   ]
  },
  {
   "cell_type": "code",
   "execution_count": 3,
   "metadata": {},
   "outputs": [],
   "source": [
    "from sklearn.linear_model import LinearRegression"
   ]
  },
  {
   "cell_type": "code",
   "execution_count": 4,
   "metadata": {},
   "outputs": [],
   "source": [
    "from sklearn.model_selection import train_test_split"
   ]
  },
  {
   "cell_type": "code",
   "execution_count": 5,
   "metadata": {},
   "outputs": [],
   "source": [
    "df=pd.read_csv(r\"/users/pawarbharath/desktop/insurance.csv\")"
   ]
  },
  {
   "cell_type": "code",
   "execution_count": 6,
   "metadata": {},
   "outputs": [
    {
     "data": {
      "text/plain": [
       "'/Users/pawarbharath/data science practice/MACHINE LEARNING /Kaggle linear '"
      ]
     },
     "execution_count": 6,
     "metadata": {},
     "output_type": "execute_result"
    }
   ],
   "source": [
    "pwd"
   ]
  },
  {
   "cell_type": "code",
   "execution_count": 8,
   "metadata": {},
   "outputs": [
    {
     "data": {
      "text/html": [
       "<div>\n",
       "<style scoped>\n",
       "    .dataframe tbody tr th:only-of-type {\n",
       "        vertical-align: middle;\n",
       "    }\n",
       "\n",
       "    .dataframe tbody tr th {\n",
       "        vertical-align: top;\n",
       "    }\n",
       "\n",
       "    .dataframe thead th {\n",
       "        text-align: right;\n",
       "    }\n",
       "</style>\n",
       "<table border=\"1\" class=\"dataframe\">\n",
       "  <thead>\n",
       "    <tr style=\"text-align: right;\">\n",
       "      <th></th>\n",
       "      <th>age</th>\n",
       "      <th>sex</th>\n",
       "      <th>bmi</th>\n",
       "      <th>children</th>\n",
       "      <th>smoker</th>\n",
       "      <th>region</th>\n",
       "      <th>charges</th>\n",
       "    </tr>\n",
       "  </thead>\n",
       "  <tbody>\n",
       "    <tr>\n",
       "      <th>0</th>\n",
       "      <td>19</td>\n",
       "      <td>female</td>\n",
       "      <td>27.90</td>\n",
       "      <td>0</td>\n",
       "      <td>yes</td>\n",
       "      <td>southwest</td>\n",
       "      <td>16884.9240</td>\n",
       "    </tr>\n",
       "    <tr>\n",
       "      <th>1</th>\n",
       "      <td>18</td>\n",
       "      <td>male</td>\n",
       "      <td>33.77</td>\n",
       "      <td>1</td>\n",
       "      <td>no</td>\n",
       "      <td>southeast</td>\n",
       "      <td>1725.5523</td>\n",
       "    </tr>\n",
       "  </tbody>\n",
       "</table>\n",
       "</div>"
      ],
      "text/plain": [
       "   age     sex    bmi  children smoker     region     charges\n",
       "0   19  female  27.90         0    yes  southwest  16884.9240\n",
       "1   18    male  33.77         1     no  southeast   1725.5523"
      ]
     },
     "execution_count": 8,
     "metadata": {},
     "output_type": "execute_result"
    }
   ],
   "source": [
    "df.head(2)"
   ]
  },
  {
   "cell_type": "code",
   "execution_count": 11,
   "metadata": {},
   "outputs": [
    {
     "data": {
      "text/plain": [
       "(1338, 7)"
      ]
     },
     "execution_count": 11,
     "metadata": {},
     "output_type": "execute_result"
    }
   ],
   "source": [
    "df.shape"
   ]
  },
  {
   "cell_type": "code",
   "execution_count": 12,
   "metadata": {},
   "outputs": [
    {
     "data": {
      "text/html": [
       "<div>\n",
       "<style scoped>\n",
       "    .dataframe tbody tr th:only-of-type {\n",
       "        vertical-align: middle;\n",
       "    }\n",
       "\n",
       "    .dataframe tbody tr th {\n",
       "        vertical-align: top;\n",
       "    }\n",
       "\n",
       "    .dataframe thead th {\n",
       "        text-align: right;\n",
       "    }\n",
       "</style>\n",
       "<table border=\"1\" class=\"dataframe\">\n",
       "  <thead>\n",
       "    <tr style=\"text-align: right;\">\n",
       "      <th></th>\n",
       "      <th>age</th>\n",
       "      <th>sex</th>\n",
       "      <th>bmi</th>\n",
       "      <th>children</th>\n",
       "      <th>smoker</th>\n",
       "      <th>region</th>\n",
       "      <th>charges</th>\n",
       "    </tr>\n",
       "  </thead>\n",
       "  <tbody>\n",
       "    <tr>\n",
       "      <th>1335</th>\n",
       "      <td>18</td>\n",
       "      <td>female</td>\n",
       "      <td>36.85</td>\n",
       "      <td>0</td>\n",
       "      <td>no</td>\n",
       "      <td>southeast</td>\n",
       "      <td>1629.8335</td>\n",
       "    </tr>\n",
       "    <tr>\n",
       "      <th>1336</th>\n",
       "      <td>21</td>\n",
       "      <td>female</td>\n",
       "      <td>25.80</td>\n",
       "      <td>0</td>\n",
       "      <td>no</td>\n",
       "      <td>southwest</td>\n",
       "      <td>2007.9450</td>\n",
       "    </tr>\n",
       "    <tr>\n",
       "      <th>1337</th>\n",
       "      <td>61</td>\n",
       "      <td>female</td>\n",
       "      <td>29.07</td>\n",
       "      <td>0</td>\n",
       "      <td>yes</td>\n",
       "      <td>northwest</td>\n",
       "      <td>29141.3603</td>\n",
       "    </tr>\n",
       "  </tbody>\n",
       "</table>\n",
       "</div>"
      ],
      "text/plain": [
       "      age     sex    bmi  children smoker     region     charges\n",
       "1335   18  female  36.85         0     no  southeast   1629.8335\n",
       "1336   21  female  25.80         0     no  southwest   2007.9450\n",
       "1337   61  female  29.07         0    yes  northwest  29141.3603"
      ]
     },
     "execution_count": 12,
     "metadata": {},
     "output_type": "execute_result"
    }
   ],
   "source": [
    "df.tail(3)"
   ]
  },
  {
   "cell_type": "code",
   "execution_count": 17,
   "metadata": {},
   "outputs": [
    {
     "data": {
      "text/plain": [
       "Index(['age', 'sex', 'bmi', 'children', 'smoker', 'region', 'charges'], dtype='object')"
      ]
     },
     "execution_count": 17,
     "metadata": {},
     "output_type": "execute_result"
    }
   ],
   "source": [
    "df.columns"
   ]
  },
  {
   "cell_type": "code",
   "execution_count": 14,
   "metadata": {},
   "outputs": [
    {
     "data": {
      "text/plain": [
       "age         0\n",
       "sex         0\n",
       "bmi         0\n",
       "children    0\n",
       "smoker      0\n",
       "region      0\n",
       "charges     0\n",
       "dtype: int64"
      ]
     },
     "execution_count": 14,
     "metadata": {},
     "output_type": "execute_result"
    }
   ],
   "source": [
    "df.isnull().sum()"
   ]
  },
  {
   "cell_type": "code",
   "execution_count": 15,
   "metadata": {},
   "outputs": [],
   "source": [
    "corel=df.corr().round(2)"
   ]
  },
  {
   "cell_type": "code",
   "execution_count": 16,
   "metadata": {},
   "outputs": [
    {
     "data": {
      "text/html": [
       "<div>\n",
       "<style scoped>\n",
       "    .dataframe tbody tr th:only-of-type {\n",
       "        vertical-align: middle;\n",
       "    }\n",
       "\n",
       "    .dataframe tbody tr th {\n",
       "        vertical-align: top;\n",
       "    }\n",
       "\n",
       "    .dataframe thead th {\n",
       "        text-align: right;\n",
       "    }\n",
       "</style>\n",
       "<table border=\"1\" class=\"dataframe\">\n",
       "  <thead>\n",
       "    <tr style=\"text-align: right;\">\n",
       "      <th></th>\n",
       "      <th>age</th>\n",
       "      <th>bmi</th>\n",
       "      <th>children</th>\n",
       "      <th>charges</th>\n",
       "    </tr>\n",
       "  </thead>\n",
       "  <tbody>\n",
       "    <tr>\n",
       "      <th>age</th>\n",
       "      <td>1.00</td>\n",
       "      <td>0.11</td>\n",
       "      <td>0.04</td>\n",
       "      <td>0.30</td>\n",
       "    </tr>\n",
       "    <tr>\n",
       "      <th>bmi</th>\n",
       "      <td>0.11</td>\n",
       "      <td>1.00</td>\n",
       "      <td>0.01</td>\n",
       "      <td>0.20</td>\n",
       "    </tr>\n",
       "    <tr>\n",
       "      <th>children</th>\n",
       "      <td>0.04</td>\n",
       "      <td>0.01</td>\n",
       "      <td>1.00</td>\n",
       "      <td>0.07</td>\n",
       "    </tr>\n",
       "    <tr>\n",
       "      <th>charges</th>\n",
       "      <td>0.30</td>\n",
       "      <td>0.20</td>\n",
       "      <td>0.07</td>\n",
       "      <td>1.00</td>\n",
       "    </tr>\n",
       "  </tbody>\n",
       "</table>\n",
       "</div>"
      ],
      "text/plain": [
       "           age   bmi  children  charges\n",
       "age       1.00  0.11      0.04     0.30\n",
       "bmi       0.11  1.00      0.01     0.20\n",
       "children  0.04  0.01      1.00     0.07\n",
       "charges   0.30  0.20      0.07     1.00"
      ]
     },
     "execution_count": 16,
     "metadata": {},
     "output_type": "execute_result"
    }
   ],
   "source": [
    "corel"
   ]
  },
  {
   "cell_type": "code",
   "execution_count": 19,
   "metadata": {},
   "outputs": [],
   "source": [
    "import seaborn as sns #importing the library because of "
   ]
  },
  {
   "cell_type": "code",
   "execution_count": 25,
   "metadata": {},
   "outputs": [],
   "source": [
    "sns.set(rc={'figure.figsize':(14.2,13.7)})\n"
   ]
  },
  {
   "cell_type": "code",
   "execution_count": 27,
   "metadata": {},
   "outputs": [
    {
     "data": {
      "text/plain": [
       "<matplotlib.axes._subplots.AxesSubplot at 0x7f7f91b98e80>"
      ]
     },
     "execution_count": 27,
     "metadata": {},
     "output_type": "execute_result"
    },
    {
     "data": {
      "image/png": "[encoded data removed]",
      "text/plain": [
       "<Figure size 1022.4x986.4 with 2 Axes>"
      ]
     },
     "metadata": {},
     "output_type": "display_data"
    }
   ],
   "source": [
    "sns.heatmap(data=corel,annot=True,cmap='coolwarm')"
   ]
  },
  {
   "cell_type": "code",
   "execution_count": 9,
   "metadata": {},
   "outputs": [],
   "source": [
    "x=df[['age','bmi','children']]\n",
    "y=df[['charges']]"
   ]
  },
  {
   "cell_type": "code",
   "execution_count": 95,
   "metadata": {},
   "outputs": [
    {
     "data": {
      "text/plain": [
       "<matplotlib.collections.PathCollection at 0x7f7f97c66790>"
      ]
     },
     "execution_count": 95,
     "metadata": {},
     "output_type": "execute_result"
    },
    {
     "data": {
      "image/png": "[encoded data removed]",
      "text/plain": [
       "<Figure size 1022.4x986.4 with 1 Axes>"
      ]
     },
     "metadata": {},
     "output_type": "display_data"
    }
   ],
   "source": [
    "plt.scatter(df.bmi,df.charges)"
   ]
  },
  {
   "cell_type": "code",
   "execution_count": 96,
   "metadata": {},
   "outputs": [
    {
     "data": {
      "text/plain": [
       "<matplotlib.collections.PathCollection at 0x7f7f97f3baf0>"
      ]
     },
     "execution_count": 96,
     "metadata": {},
     "output_type": "execute_result"
    },
    {
     "data": {
      "image/png": "[encoded data removed]",
      "text/plain": [
       "<Figure size 1022.4x986.4 with 1 Axes>"
      ]
     },
     "metadata": {},
     "output_type": "display_data"
    }
   ],
   "source": [
    "plt.scatter(df.age,df.charges)"
   ]
  },
  {
   "cell_type": "code",
   "execution_count": 109,
   "metadata": {},
   "outputs": [
    {
     "data": {
      "text/plain": [
       "<matplotlib.collections.PathCollection at 0x7f7f97f90e80>"
      ]
     },
     "execution_count": 109,
     "metadata": {},
     "output_type": "execute_result"
    },
    {
     "data": {
      "image/png": "[encoded data removed]",
      "text/plain": [
       "<Figure size 1022.4x986.4 with 1 Axes>"
      ]
     },
     "metadata": {},
     "output_type": "display_data"
    }
   ],
   "source": [
    "plt.scatter(df.children,df.charges)"
   ]
  },
  {
   "cell_type": "code",
   "execution_count": 97,
   "metadata": {},
   "outputs": [],
   "source": [
    "x_train,x_test,y_train,y_test=train_test_split(x,y,train_size=0.80,random_state=42)"
   ]
  },
  {
   "cell_type": "code",
   "execution_count": 98,
   "metadata": {},
   "outputs": [
    {
     "data": {
      "text/plain": [
       "(1070, 3)"
      ]
     },
     "execution_count": 98,
     "metadata": {},
     "output_type": "execute_result"
    }
   ],
   "source": [
    "x_train.shape"
   ]
  },
  {
   "cell_type": "code",
   "execution_count": 99,
   "metadata": {},
   "outputs": [
    {
     "data": {
      "text/plain": [
       "(1070, 1)"
      ]
     },
     "execution_count": 99,
     "metadata": {},
     "output_type": "execute_result"
    }
   ],
   "source": [
    "y_train.shape"
   ]
  },
  {
   "cell_type": "code",
   "execution_count": 100,
   "metadata": {},
   "outputs": [
    {
     "data": {
      "text/plain": [
       "(268, 3)"
      ]
     },
     "execution_count": 100,
     "metadata": {},
     "output_type": "execute_result"
    }
   ],
   "source": [
    "x_test.shape"
   ]
  },
  {
   "cell_type": "code",
   "execution_count": 101,
   "metadata": {},
   "outputs": [
    {
     "data": {
      "text/html": [
       "<div>\n",
       "<style scoped>\n",
       "    .dataframe tbody tr th:only-of-type {\n",
       "        vertical-align: middle;\n",
       "    }\n",
       "\n",
       "    .dataframe tbody tr th {\n",
       "        vertical-align: top;\n",
       "    }\n",
       "\n",
       "    .dataframe thead th {\n",
       "        text-align: right;\n",
       "    }\n",
       "</style>\n",
       "<table border=\"1\" class=\"dataframe\">\n",
       "  <thead>\n",
       "    <tr style=\"text-align: right;\">\n",
       "      <th></th>\n",
       "      <th>charges</th>\n",
       "    </tr>\n",
       "  </thead>\n",
       "  <tbody>\n",
       "    <tr>\n",
       "      <th>764</th>\n",
       "      <td>9095.06825</td>\n",
       "    </tr>\n",
       "    <tr>\n",
       "      <th>887</th>\n",
       "      <td>5272.17580</td>\n",
       "    </tr>\n",
       "    <tr>\n",
       "      <th>890</th>\n",
       "      <td>29330.98315</td>\n",
       "    </tr>\n",
       "    <tr>\n",
       "      <th>1293</th>\n",
       "      <td>9301.89355</td>\n",
       "    </tr>\n",
       "    <tr>\n",
       "      <th>259</th>\n",
       "      <td>33750.29180</td>\n",
       "    </tr>\n",
       "    <tr>\n",
       "      <th>...</th>\n",
       "      <td>...</td>\n",
       "    </tr>\n",
       "    <tr>\n",
       "      <th>109</th>\n",
       "      <td>47055.53210</td>\n",
       "    </tr>\n",
       "    <tr>\n",
       "      <th>575</th>\n",
       "      <td>12222.89830</td>\n",
       "    </tr>\n",
       "    <tr>\n",
       "      <th>535</th>\n",
       "      <td>6067.12675</td>\n",
       "    </tr>\n",
       "    <tr>\n",
       "      <th>543</th>\n",
       "      <td>63770.42801</td>\n",
       "    </tr>\n",
       "    <tr>\n",
       "      <th>846</th>\n",
       "      <td>9872.70100</td>\n",
       "    </tr>\n",
       "  </tbody>\n",
       "</table>\n",
       "<p>268 rows × 1 columns</p>\n",
       "</div>"
      ],
      "text/plain": [
       "          charges\n",
       "764    9095.06825\n",
       "887    5272.17580\n",
       "890   29330.98315\n",
       "1293   9301.89355\n",
       "259   33750.29180\n",
       "...           ...\n",
       "109   47055.53210\n",
       "575   12222.89830\n",
       "535    6067.12675\n",
       "543   63770.42801\n",
       "846    9872.70100\n",
       "\n",
       "[268 rows x 1 columns]"
      ]
     },
     "execution_count": 101,
     "metadata": {},
     "output_type": "execute_result"
    }
   ],
   "source": [
    "y_test"
   ]
  },
  {
   "cell_type": "code",
   "execution_count": 102,
   "metadata": {},
   "outputs": [],
   "source": [
    "lrm=LinearRegression()"
   ]
  },
  {
   "cell_type": "code",
   "execution_count": 103,
   "metadata": {},
   "outputs": [
    {
     "data": {
      "text/plain": [
       "LinearRegression()"
      ]
     },
     "execution_count": 103,
     "metadata": {},
     "output_type": "execute_result"
    }
   ],
   "source": [
    "lrm.fit(x_train,y_train)"
   ]
  },
  {
   "cell_type": "code",
   "execution_count": 104,
   "metadata": {},
   "outputs": [
    {
     "data": {
      "text/plain": [
       "array([[13305.28945949],\n",
       "       [11801.95170145],\n",
       "       [16941.71437111],\n",
       "       [14278.42206855],\n",
       "       [ 8680.25439362],\n",
       "       [16202.22349193],\n",
       "       [ 5555.8901083 ],\n",
       "       [20602.58565492],\n",
       "       [ 5806.95206068],\n",
       "       [15919.03165614],\n",
       "       [10299.48549201],\n",
       "       [14221.13480456],\n",
       "       [10676.8197114 ],\n",
       "       [19794.64417995],\n",
       "       [20721.14505796],\n",
       "       [18319.57207031],\n",
       "       [20003.52486079],\n",
       "       [16989.16491869],\n",
       "       [13918.10991054],\n",
       "       [12305.80129754],\n",
       "       [10155.63429188],\n",
       "       [15330.37731182],\n",
       "       [ 8175.30663033],\n",
       "       [11961.94421188],\n",
       "       [15950.43401031],\n",
       "       [16659.25006455],\n",
       "       [18787.72664854],\n",
       "       [11630.42705085],\n",
       "       [14220.19351839],\n",
       "       [ 7868.1762212 ],\n",
       "       [14697.87471015],\n",
       "       [17037.49024392],\n",
       "       [10101.76722818],\n",
       "       [ 8821.1844745 ],\n",
       "       [10150.74943027],\n",
       "       [17039.37281627],\n",
       "       [ 7851.03169019],\n",
       "       [13870.41119463],\n",
       "       [13940.42279767],\n",
       "       [14085.77995875],\n",
       "       [10392.4393359 ],\n",
       "       [ 9716.19171103],\n",
       "       [18700.25675242],\n",
       "       [15364.53701599],\n",
       "       [14169.23745665],\n",
       "       [16605.24949913],\n",
       "       [10815.87502296],\n",
       "       [ 9162.47641738],\n",
       "       [17012.91908784],\n",
       "       [14604.73646207],\n",
       "       [19848.64291578],\n",
       "       [ 8175.39974722],\n",
       "       [17035.11042013],\n",
       "       [ 6534.38328069],\n",
       "       [17682.11992809],\n",
       "       [16712.90245652],\n",
       "       [ 8962.56181915],\n",
       "       [13838.94599111],\n",
       "       [17681.80616603],\n",
       "       [16627.84771037],\n",
       "       [18353.73177448],\n",
       "       [15955.29640741],\n",
       "       [21029.74518705],\n",
       "       [12579.89769286],\n",
       "       [15618.10906483],\n",
       "       [ 9241.86189678],\n",
       "       [ 9307.54825435],\n",
       "       [15820.56128268],\n",
       "       [ 7443.45613316],\n",
       "       [11860.62245675],\n",
       "       [15141.87006988],\n",
       "       [15892.9898653 ],\n",
       "       [15550.6350814 ],\n",
       "       [14360.97360647],\n",
       "       [16801.94116293],\n",
       "       [11768.73145387],\n",
       "       [12356.28946057],\n",
       "       [14765.38219017],\n",
       "       [12151.89182104],\n",
       "       [14042.71519173],\n",
       "       [ 9369.41764997],\n",
       "       [16437.08036988],\n",
       "       [11971.87495997],\n",
       "       [12267.28608035],\n",
       "       [16768.85027321],\n",
       "       [15492.18588607],\n",
       "       [12681.37724382],\n",
       "       [16911.56706516],\n",
       "       [14694.20957058],\n",
       "       [19429.7843017 ],\n",
       "       [21350.22745935],\n",
       "       [15647.78572769],\n",
       "       [13499.37790994],\n",
       "       [11035.22085911],\n",
       "       [13606.21802424],\n",
       "       [14755.98079067],\n",
       "       [11119.83937357],\n",
       "       [ 9259.79083294],\n",
       "       [10051.9946475 ],\n",
       "       [10529.64557172],\n",
       "       [10503.91754293],\n",
       "       [ 7677.00291657],\n",
       "       [16307.49388114],\n",
       "       [19925.95636001],\n",
       "       [15206.4270779 ],\n",
       "       [10112.1401814 ],\n",
       "       [14916.62834837],\n",
       "       [12525.14713369],\n",
       "       [ 4987.98075563],\n",
       "       [13745.92746828],\n",
       "       [ 9072.25331511],\n",
       "       [15642.05635599],\n",
       "       [18010.62285298],\n",
       "       [12554.64030716],\n",
       "       [15487.29596582],\n",
       "       [ 9822.81026536],\n",
       "       [16626.74954317],\n",
       "       [13370.38270434],\n",
       "       [13407.86626285],\n",
       "       [ 8611.46159782],\n",
       "       [12996.46960003],\n",
       "       [15420.38574236],\n",
       "       [19237.32751088],\n",
       "       [11092.92097549],\n",
       "       [ 9110.57815468],\n",
       "       [15041.6749199 ],\n",
       "       [15777.25340597],\n",
       "       [15171.70361377],\n",
       "       [18600.18913072],\n",
       "       [12881.98818894],\n",
       "       [10556.81994115],\n",
       "       [14698.72287943],\n",
       "       [14647.29525981],\n",
       "       [16534.42505298],\n",
       "       [13387.74788052],\n",
       "       [19794.39326724],\n",
       "       [12875.43634152],\n",
       "       [13119.85424438],\n",
       "       [16534.58193401],\n",
       "       [12275.1833485 ],\n",
       "       [10760.49693968],\n",
       "       [16407.24682599],\n",
       "       [11388.26741693],\n",
       "       [18953.29439403],\n",
       "       [ 7951.78968535],\n",
       "       [14329.50657336],\n",
       "       [11413.61791952],\n",
       "       [10392.53659663],\n",
       "       [18916.84523858],\n",
       "       [12303.67055687],\n",
       "       [19516.15694542],\n",
       "       [ 8300.91604704],\n",
       "       [11522.4034555 ],\n",
       "       [12681.19101004],\n",
       "       [16309.56177247],\n",
       "       [12906.83869569],\n",
       "       [18235.95677658],\n",
       "       [14577.37494406],\n",
       "       [ 9075.57533987],\n",
       "       [14163.22001645],\n",
       "       [18384.28687417],\n",
       "       [ 7191.92353769],\n",
       "       [17640.87305448],\n",
       "       [ 7101.66510924],\n",
       "       [11511.46168366],\n",
       "       [16631.10688579],\n",
       "       [20313.72638196],\n",
       "       [16816.57559749],\n",
       "       [14572.86255001],\n",
       "       [ 9466.6329752 ],\n",
       "       [12338.01649481],\n",
       "       [13851.10657019],\n",
       "       [16661.60327998],\n",
       "       [ 9904.135193  ],\n",
       "       [ 7741.31175627],\n",
       "       [13261.85313972],\n",
       "       [ 7278.35994555],\n",
       "       [21458.00703022],\n",
       "       [ 7973.81816318],\n",
       "       [14165.59984025],\n",
       "       [17004.98972255],\n",
       "       [ 4666.87095921],\n",
       "       [11321.79068078],\n",
       "       [13145.96071416],\n",
       "       [ 9452.52605963],\n",
       "       [10257.43174874],\n",
       "       [10693.42983519],\n",
       "       [ 9706.69536504],\n",
       "       [19876.00443379],\n",
       "       [15207.36836408],\n",
       "       [12973.15257738],\n",
       "       [ 7544.27880726],\n",
       "       [ 6439.07805096],\n",
       "       [13910.43328755],\n",
       "       [20468.35741426],\n",
       "       [16468.70428402],\n",
       "       [ 6781.65348002],\n",
       "       [16522.91952117],\n",
       "       [ 6597.5017511 ],\n",
       "       [13424.22547393],\n",
       "       [ 7006.51676054],\n",
       "       [14450.41736224],\n",
       "       [16320.71913083],\n",
       "       [ 8259.89073339],\n",
       "       [ 7776.44301415],\n",
       "       [ 8064.42476508],\n",
       "       [13693.30947937],\n",
       "       [ 7496.95164411],\n",
       "       [17816.25596666],\n",
       "       [ 6873.72888709],\n",
       "       [14678.06826028],\n",
       "       [14994.38125334],\n",
       "       [21131.82290937],\n",
       "       [ 8611.05471887],\n",
       "       [12133.3991249 ],\n",
       "       [ 9783.10193449],\n",
       "       [11121.34350492],\n",
       "       [17840.91518099],\n",
       "       [15276.34647886],\n",
       "       [13536.14174225],\n",
       "       [10384.13933264],\n",
       "       [16723.93734524],\n",
       "       [19196.43064031],\n",
       "       [17144.20282994],\n",
       "       [ 9405.64616025],\n",
       "       [10587.34568809],\n",
       "       [ 4919.72236705],\n",
       "       [ 8238.42510074],\n",
       "       [15679.65963975],\n",
       "       [20727.59872985],\n",
       "       [10759.52813035],\n",
       "       [11136.85454671],\n",
       "       [ 9582.14878935],\n",
       "       [12609.76656293],\n",
       "       [11452.29001774],\n",
       "       [16940.74556178],\n",
       "       [11004.44602905],\n",
       "       [14481.88439535],\n",
       "       [17690.83278373],\n",
       "       [ 9957.10227015],\n",
       "       [13218.352141  ],\n",
       "       [13203.15577606],\n",
       "       [10856.90033661],\n",
       "       [10124.1732322 ],\n",
       "       [ 6439.54869404],\n",
       "       [ 9941.52563463],\n",
       "       [10324.77820389],\n",
       "       [11973.59973649],\n",
       "       [23706.92053096],\n",
       "       [ 3883.25064242],\n",
       "       [ 8130.30241507],\n",
       "       [16128.0701328 ],\n",
       "       [ 8633.99513012],\n",
       "       [13850.00748819],\n",
       "       [ 9211.71459083],\n",
       "       [10670.803186  ],\n",
       "       [16728.0712983 ],\n",
       "       [11451.3221232 ],\n",
       "       [12178.62307054],\n",
       "       [12545.01734769],\n",
       "       [13932.21176746],\n",
       "       [14354.32772736],\n",
       "       [ 9526.11565879],\n",
       "       [19446.67792001],\n",
       "       [15711.84548427],\n",
       "       [12143.74272538],\n",
       "       [21552.59253374],\n",
       "       [17064.94396402]])"
      ]
     },
     "execution_count": 104,
     "metadata": {},
     "output_type": "execute_result"
    }
   ],
   "source": [
    "lrm.predict(x_test)"
   ]
  },
  {
   "cell_type": "code",
   "execution_count": 105,
   "metadata": {},
   "outputs": [],
   "source": [
    "from sklearn.metrics import accuracy_score"
   ]
  },
  {
   "cell_type": "code",
   "execution_count": 106,
   "metadata": {},
   "outputs": [],
   "source": [
    "regression_model_accuracy=lrm.score(x_test,y_test)"
   ]
  },
  {
   "cell_type": "code",
   "execution_count": 108,
   "metadata": {},
   "outputs": [
    {
     "data": {
      "text/plain": [
       "0.15489592484270776"
      ]
     },
     "execution_count": 108,
     "metadata": {},
     "output_type": "execute_result"
    }
   ],
   "source": [
    "regression_model_accuracy"
   ]
  },
  {
   "cell_type": "code",
   "execution_count": 93,
   "metadata": {},
   "outputs": [
    {
     "data": {
      "text/plain": [
       "<matplotlib.axes._subplots.AxesSubplot at 0x7f7f953795b0>"
      ]
     },
     "execution_count": 93,
     "metadata": {},
     "output_type": "execute_result"
    },
    {
     "data": {
      "image/png": "[encoded data removed]",
      "text/plain": [
       "<Figure size 1022.4x986.4 with 1 Axes>"
      ]
     },
     "metadata": {},
     "output_type": "display_data"
    }
   ],
   "source": [
    "sns.scatterplot(x_test.age,y_test.charges)"
   ]
  },
  {
   "cell_type": "markdown",
   "metadata": {},
   "source": [
    "# project 2 insurance USING COLUMN TRANSFORMER "
   ]
  },
  {
   "cell_type": "code",
   "execution_count": 168,
   "metadata": {},
   "outputs": [],
   "source": [
    "df1=pd.read_csv(r\"/users/pawarbharath/desktop/insurance.csv\")\n"
   ]
  },
  {
   "cell_type": "code",
   "execution_count": 169,
   "metadata": {},
   "outputs": [],
   "source": [
    "features=df1.iloc[:,0:6].values\n",
    "label=df1.iloc[:,-1].values"
   ]
  },
  {
   "cell_type": "code",
   "execution_count": 170,
   "metadata": {},
   "outputs": [
    {
     "data": {
      "text/plain": [
       "numpy.ndarray"
      ]
     },
     "execution_count": 170,
     "metadata": {},
     "output_type": "execute_result"
    }
   ],
   "source": [
    "type(features)"
   ]
  },
  {
   "cell_type": "code",
   "execution_count": 171,
   "metadata": {},
   "outputs": [
    {
     "data": {
      "text/plain": [
       "array([[19, 'female', 27.9, 0, 'yes', 'southwest'],\n",
       "       [18, 'male', 33.77, 1, 'no', 'southeast'],\n",
       "       [28, 'male', 33.0, 3, 'no', 'southeast'],\n",
       "       ...,\n",
       "       [18, 'female', 36.85, 0, 'no', 'southeast'],\n",
       "       [21, 'female', 25.8, 0, 'no', 'southwest'],\n",
       "       [61, 'female', 29.07, 0, 'yes', 'northwest']], dtype=object)"
      ]
     },
     "execution_count": 171,
     "metadata": {},
     "output_type": "execute_result"
    }
   ],
   "source": [
    "features"
   ]
  },
  {
   "cell_type": "code",
   "execution_count": null,
   "metadata": {},
   "outputs": [],
   "source": []
  },
  {
   "cell_type": "code",
   "execution_count": 172,
   "metadata": {},
   "outputs": [],
   "source": [
    "from sklearn.compose import ColumnTransformer\n",
    "from sklearn.preprocessing import OneHotEncoder"
   ]
  },
  {
   "cell_type": "code",
   "execution_count": 173,
   "metadata": {},
   "outputs": [
    {
     "data": {
      "text/html": [
       "<div>\n",
       "<style scoped>\n",
       "    .dataframe tbody tr th:only-of-type {\n",
       "        vertical-align: middle;\n",
       "    }\n",
       "\n",
       "    .dataframe tbody tr th {\n",
       "        vertical-align: top;\n",
       "    }\n",
       "\n",
       "    .dataframe thead th {\n",
       "        text-align: right;\n",
       "    }\n",
       "</style>\n",
       "<table border=\"1\" class=\"dataframe\">\n",
       "  <thead>\n",
       "    <tr style=\"text-align: right;\">\n",
       "      <th></th>\n",
       "      <th>age</th>\n",
       "      <th>sex</th>\n",
       "      <th>bmi</th>\n",
       "      <th>children</th>\n",
       "      <th>smoker</th>\n",
       "      <th>region</th>\n",
       "      <th>charges</th>\n",
       "    </tr>\n",
       "  </thead>\n",
       "  <tbody>\n",
       "    <tr>\n",
       "      <th>0</th>\n",
       "      <td>19</td>\n",
       "      <td>female</td>\n",
       "      <td>27.90</td>\n",
       "      <td>0</td>\n",
       "      <td>yes</td>\n",
       "      <td>southwest</td>\n",
       "      <td>16884.9240</td>\n",
       "    </tr>\n",
       "    <tr>\n",
       "      <th>1</th>\n",
       "      <td>18</td>\n",
       "      <td>male</td>\n",
       "      <td>33.77</td>\n",
       "      <td>1</td>\n",
       "      <td>no</td>\n",
       "      <td>southeast</td>\n",
       "      <td>1725.5523</td>\n",
       "    </tr>\n",
       "  </tbody>\n",
       "</table>\n",
       "</div>"
      ],
      "text/plain": [
       "   age     sex    bmi  children smoker     region     charges\n",
       "0   19  female  27.90         0    yes  southwest  16884.9240\n",
       "1   18    male  33.77         1     no  southeast   1725.5523"
      ]
     },
     "execution_count": 173,
     "metadata": {},
     "output_type": "execute_result"
    }
   ],
   "source": [
    "df1.head(2)"
   ]
  },
  {
   "cell_type": "code",
   "execution_count": 174,
   "metadata": {},
   "outputs": [],
   "source": [
    "columnTransformer = ColumnTransformer([('encoder', OneHotEncoder(), [1,4,5])], remainder='passthrough')\n",
    "features = np.array(columnTransformer.fit_transform(features), dtype = np.float32)\n"
   ]
  },
  {
   "cell_type": "code",
   "execution_count": 175,
   "metadata": {},
   "outputs": [
    {
     "data": {
      "text/plain": [
       "(1338, 11)"
      ]
     },
     "execution_count": 175,
     "metadata": {},
     "output_type": "execute_result"
    }
   ],
   "source": [
    "features.shape"
   ]
  },
  {
   "cell_type": "code",
   "execution_count": 176,
   "metadata": {},
   "outputs": [
    {
     "data": {
      "text/plain": [
       "array([[ 1.  ,  0.  ,  0.  , ..., 19.  , 27.9 ,  0.  ],\n",
       "       [ 0.  ,  1.  ,  1.  , ..., 18.  , 33.77,  1.  ],\n",
       "       [ 0.  ,  1.  ,  1.  , ..., 28.  , 33.  ,  3.  ],\n",
       "       ...,\n",
       "       [ 1.  ,  0.  ,  1.  , ..., 18.  , 36.85,  0.  ],\n",
       "       [ 1.  ,  0.  ,  1.  , ..., 21.  , 25.8 ,  0.  ],\n",
       "       [ 1.  ,  0.  ,  0.  , ..., 61.  , 29.07,  0.  ]], dtype=float32)"
      ]
     },
     "execution_count": 176,
     "metadata": {},
     "output_type": "execute_result"
    }
   ],
   "source": [
    "features"
   ]
  },
  {
   "cell_type": "code",
   "execution_count": 177,
   "metadata": {},
   "outputs": [
    {
     "data": {
      "text/plain": [
       "array(['southwest', 'southeast', 'northwest', 'northeast'], dtype=object)"
      ]
     },
     "execution_count": 177,
     "metadata": {},
     "output_type": "execute_result"
    }
   ],
   "source": [
    "df1['region'].unique()"
   ]
  },
  {
   "cell_type": "code",
   "execution_count": 178,
   "metadata": {},
   "outputs": [],
   "source": [
    "features = features[:, [0,2,3,4,6,8,9,10]]#drop the first dummy col for sex #drop the dummy col for smoker and also region"
   ]
  },
  {
   "cell_type": "code",
   "execution_count": 179,
   "metadata": {},
   "outputs": [
    {
     "data": {
      "text/plain": [
       "(1338, 8)"
      ]
     },
     "execution_count": 179,
     "metadata": {},
     "output_type": "execute_result"
    }
   ],
   "source": [
    "features.shape"
   ]
  },
  {
   "cell_type": "code",
   "execution_count": 180,
   "metadata": {},
   "outputs": [
    {
     "data": {
      "text/plain": [
       "numpy.ndarray"
      ]
     },
     "execution_count": 180,
     "metadata": {},
     "output_type": "execute_result"
    }
   ],
   "source": [
    "type(features)"
   ]
  },
  {
   "cell_type": "code",
   "execution_count": 181,
   "metadata": {},
   "outputs": [],
   "source": [
    "from sklearn.model_selection import train_test_split\n",
    "features_train,features_test,label_train,label_test = train_test_split(features,label,test_size = 0.20,random_state = 0)"
   ]
  },
  {
   "cell_type": "code",
   "execution_count": 182,
   "metadata": {},
   "outputs": [],
   "source": [
    "#from sklearn.preprocessing import StandardScaler\n",
    "#sc = StandardScaler()\n",
    "#features_train = sc.fit_transform(features_train)\n",
    "#features_test = sc.transform(features_test)"
   ]
  },
  {
   "cell_type": "code",
   "execution_count": 183,
   "metadata": {},
   "outputs": [],
   "source": [
    "lrm1=LinearRegression()"
   ]
  },
  {
   "cell_type": "code",
   "execution_count": 184,
   "metadata": {},
   "outputs": [
    {
     "data": {
      "text/plain": [
       "LinearRegression()"
      ]
     },
     "execution_count": 184,
     "metadata": {},
     "output_type": "execute_result"
    }
   ],
   "source": [
    "lrm1.fit(features_train,label_train)"
   ]
  },
  {
   "cell_type": "code",
   "execution_count": 185,
   "metadata": {
    "scrolled": true
   },
   "outputs": [
    {
     "data": {
      "text/plain": [
       "array([11411.481  ,  9496.533  , 37897.39   , 15994.183  ,  6692.443  ,\n",
       "        3987.1147 ,  1589.2119 , 14096.038  ,  8736.785  ,  7228.6484 ,\n",
       "        4500.741  , 10022.635  ,  9043.109  ,  3825.4834 , 27683.629  ,\n",
       "       10714.119  , 11051.665  ,  6092.677  ,  7973.8965 , 27152.945  ,\n",
       "       33400.027  , 14080.146  , 11740.735  , 32168.27   ,  4171.5083 ,\n",
       "        9231.462  ,  1118.0854 ,  9789.649  ,  3794.6553 , 10162.684  ,\n",
       "        8737.601  , 40066.48   , 15921.228  , 14110.934  , 24794.875  ,\n",
       "        5173.9663 , 12590.728  , 31001.71   , 33285.137  ,  3908.622  ,\n",
       "        4004.2441 ,  4004.2896 , 30550.473  , 39232.04   , 27814.594  ,\n",
       "        4815.2617 , 10604.072  ,  7577.4355 ,  3607.8862 , 10237.591  ,\n",
       "        5709.676  ,  3153.3257 , 33277.496  , 38450.477  , 16040.888  ,\n",
       "        7152.6885 ,  5737.1396 ,  9210.136  ,  8900.028  , 11481.4375 ,\n",
       "        2104.4702 , 38649.676  , 14887.003  , 12033.853  , 14012.122  ,\n",
       "       14275.2705 , 25851.188  , 31952.516  ,   831.8262 ,  9879.702  ,\n",
       "       12615.714  , 11541.841  , 25506.516  , 15622.745  , 10972.938  ,\n",
       "       12662.722  ,  6824.1543 ,  9588.631  , 30203.742  , 39345.387  ,\n",
       "       12059.167  , 37278.82   ,  4003.1704 ,  9634.536  , 34846.86   ,\n",
       "       28867.766  ,  8896.12   ,  4670.085  , 12288.041  , 30712.812  ,\n",
       "       10043.96   , 11643.214  ,  8371.627  ,  8905.054  ,  8422.342  ,\n",
       "        7315.2847 , 36037.668  , 33425.52   ,  7385.4346 , 15365.21   ,\n",
       "        4021.8525 ,  8557.075  ,  6313.6865 , 31560.55   , 32717.324  ,\n",
       "        1740.5488 ,  9295.952  ,  6429.625  , 14578.084  , 37494.598  ,\n",
       "        9883.795  , 10546.669  ,  9972.21   , 26993.727  , 39888.92   ,\n",
       "        8461.464  ,   553.8042 ,  9273.497  , 15489.407  ,  9262.296  ,\n",
       "       35140.367  ,  7041.333  , 17212.234  ,  9614.989  ,  8496.617  ,\n",
       "        2695.9497 , 32932.312  , 31243.328  , 39862.277  ,  5333.331  ,\n",
       "        9311.486  ,  3585.8838 ,  7652.077  ,  8651.033  , 31991.582  ,\n",
       "       30227.57   , 29818.922  ,  8743.688  , 32470.434  ,  3102.7822 ,\n",
       "        3448.4258 , 10891.226  , 13132.182  , 12865.724  ,  5198.159  ,\n",
       "       15583.138  , 14927.075  ,  2154.9404 ,  -211.51904, 10856.12   ,\n",
       "        7412.7705 , 31843.672  , 12375.546  ,  2338.6846 ,  6190.445  ,\n",
       "        7866.3164 ,  4179.5015 ,  2118.5908 , 11086.012  , 12256.957  ,\n",
       "        7237.7505 , 16379.688  , 11574.862  , 14325.651  ,  3210.609  ,\n",
       "        7254.4575 , 23401.516  ,  7572.498  ,  5492.791  ,  5189.954  ,\n",
       "        6480.443  ,  5192.6953 ,  9734.66   ,  5376.1714 ,  5958.142  ,\n",
       "        6615.463  ,  3703.7266 ,  5326.9185 , 38057.26   ,  1509.5371 ,\n",
       "       12367.785  ,  8688.384  , 13521.497  ,  5404.072  ,  5195.1416 ,\n",
       "       36484.043  ,  4394.065  ,  2291.2617 , 14966.273  , 12662.418  ,\n",
       "       35148.582  ,  4778.883  ,  5932.2617 , 31268.652  ,  5936.885  ,\n",
       "        2406.6362 ,  8427.745  , 10012.688  ,  7981.833  ,  5545.418  ,\n",
       "       13153.408  , 38484.918  , 13477.816  , 29121.309  ,  6512.938  ,\n",
       "       35532.63   ,  3765.8643 , 11897.032  ,  9044.372  ,  6237.427  ,\n",
       "       11096.382  , 14564.349  ,  4899.4053 ,  4703.5176 ,  8152.2725 ,\n",
       "        1606.2944 ,  7843.343  ,  4432.794  , 12888.716  ,  4262.274  ,\n",
       "       10319.165  ,  7195.5967 ,  9549.106  ,  2415.75   , 13488.197  ,\n",
       "       16597.328  , 14925.44   , 10853.739  ,  5303.9453 ,  2255.245  ,\n",
       "        1945.5947 , 13482.314  , 14057.115  ,  4987.3525 ,  3781.313  ,\n",
       "        9715.863  ,  9982.943  , 28295.062  ,  7649.8975 , 10478.114  ,\n",
       "        6577.0967 , 29572.016  , 11366.208  ,  7523.5996 ,  9958.037  ,\n",
       "       11985.466  ,  3003.9092 , 10603.776  ,  1559.1626 ,  7049.1973 ,\n",
       "       28466.016  , 38931.92   ,  6591.3906 ,  8167.     ,  2539.6182 ,\n",
       "         464.08984, 10801.701  ,  4199.5303 ,  4678.036  ,  2365.3374 ,\n",
       "        6824.113  , 33668.12   , 38258.137  , 14494.436  ,  8020.551  ,\n",
       "       16130.005  , 32883.746  ,  9463.11   ], dtype=float32)"
      ]
     },
     "execution_count": 185,
     "metadata": {},
     "output_type": "execute_result"
    }
   ],
   "source": [
    "lrm1.predict(features_test)"
   ]
  },
  {
   "cell_type": "code",
   "execution_count": 166,
   "metadata": {},
   "outputs": [
    {
     "data": {
      "text/plain": [
       "0.7994037882834724"
      ]
     },
     "execution_count": 166,
     "metadata": {},
     "output_type": "execute_result"
    }
   ],
   "source": [
    "lrm1.score(features_test,label_test) #accuracy 79%"
   ]
  },
  {
   "cell_type": "markdown",
   "metadata": {},
   "source": [
    "# project 3 using one hot encoding ---- pandas ...\n"
   ]
  },
  {
   "cell_type": "code",
   "execution_count": 97,
   "metadata": {},
   "outputs": [],
   "source": [
    "df2=pd.read_csv(r\"/users/pawarbharath/desktop/insurance.csv\")"
   ]
  },
  {
   "cell_type": "code",
   "execution_count": 98,
   "metadata": {
    "collapsed": true
   },
   "outputs": [
    {
     "data": {
      "text/html": [
       "<div>\n",
       "<style scoped>\n",
       "    .dataframe tbody tr th:only-of-type {\n",
       "        vertical-align: middle;\n",
       "    }\n",
       "\n",
       "    .dataframe tbody tr th {\n",
       "        vertical-align: top;\n",
       "    }\n",
       "\n",
       "    .dataframe thead th {\n",
       "        text-align: right;\n",
       "    }\n",
       "</style>\n",
       "<table border=\"1\" class=\"dataframe\">\n",
       "  <thead>\n",
       "    <tr style=\"text-align: right;\">\n",
       "      <th></th>\n",
       "      <th>age</th>\n",
       "      <th>sex</th>\n",
       "      <th>bmi</th>\n",
       "      <th>children</th>\n",
       "      <th>smoker</th>\n",
       "      <th>region</th>\n",
       "      <th>charges</th>\n",
       "    </tr>\n",
       "  </thead>\n",
       "  <tbody>\n",
       "    <tr>\n",
       "      <th>0</th>\n",
       "      <td>19</td>\n",
       "      <td>female</td>\n",
       "      <td>27.900</td>\n",
       "      <td>0</td>\n",
       "      <td>yes</td>\n",
       "      <td>southwest</td>\n",
       "      <td>16884.92400</td>\n",
       "    </tr>\n",
       "    <tr>\n",
       "      <th>1</th>\n",
       "      <td>18</td>\n",
       "      <td>male</td>\n",
       "      <td>33.770</td>\n",
       "      <td>1</td>\n",
       "      <td>no</td>\n",
       "      <td>southeast</td>\n",
       "      <td>1725.55230</td>\n",
       "    </tr>\n",
       "    <tr>\n",
       "      <th>2</th>\n",
       "      <td>28</td>\n",
       "      <td>male</td>\n",
       "      <td>33.000</td>\n",
       "      <td>3</td>\n",
       "      <td>no</td>\n",
       "      <td>southeast</td>\n",
       "      <td>4449.46200</td>\n",
       "    </tr>\n",
       "    <tr>\n",
       "      <th>3</th>\n",
       "      <td>33</td>\n",
       "      <td>male</td>\n",
       "      <td>22.705</td>\n",
       "      <td>0</td>\n",
       "      <td>no</td>\n",
       "      <td>northwest</td>\n",
       "      <td>21984.47061</td>\n",
       "    </tr>\n",
       "    <tr>\n",
       "      <th>4</th>\n",
       "      <td>32</td>\n",
       "      <td>male</td>\n",
       "      <td>28.880</td>\n",
       "      <td>0</td>\n",
       "      <td>no</td>\n",
       "      <td>northwest</td>\n",
       "      <td>3866.85520</td>\n",
       "    </tr>\n",
       "    <tr>\n",
       "      <th>...</th>\n",
       "      <td>...</td>\n",
       "      <td>...</td>\n",
       "      <td>...</td>\n",
       "      <td>...</td>\n",
       "      <td>...</td>\n",
       "      <td>...</td>\n",
       "      <td>...</td>\n",
       "    </tr>\n",
       "    <tr>\n",
       "      <th>1333</th>\n",
       "      <td>50</td>\n",
       "      <td>male</td>\n",
       "      <td>30.970</td>\n",
       "      <td>3</td>\n",
       "      <td>no</td>\n",
       "      <td>northwest</td>\n",
       "      <td>10600.54830</td>\n",
       "    </tr>\n",
       "    <tr>\n",
       "      <th>1334</th>\n",
       "      <td>18</td>\n",
       "      <td>female</td>\n",
       "      <td>31.920</td>\n",
       "      <td>0</td>\n",
       "      <td>no</td>\n",
       "      <td>northeast</td>\n",
       "      <td>2205.98080</td>\n",
       "    </tr>\n",
       "    <tr>\n",
       "      <th>1335</th>\n",
       "      <td>18</td>\n",
       "      <td>female</td>\n",
       "      <td>36.850</td>\n",
       "      <td>0</td>\n",
       "      <td>no</td>\n",
       "      <td>southeast</td>\n",
       "      <td>1629.83350</td>\n",
       "    </tr>\n",
       "    <tr>\n",
       "      <th>1336</th>\n",
       "      <td>21</td>\n",
       "      <td>female</td>\n",
       "      <td>25.800</td>\n",
       "      <td>0</td>\n",
       "      <td>no</td>\n",
       "      <td>southwest</td>\n",
       "      <td>2007.94500</td>\n",
       "    </tr>\n",
       "    <tr>\n",
       "      <th>1337</th>\n",
       "      <td>61</td>\n",
       "      <td>female</td>\n",
       "      <td>29.070</td>\n",
       "      <td>0</td>\n",
       "      <td>yes</td>\n",
       "      <td>northwest</td>\n",
       "      <td>29141.36030</td>\n",
       "    </tr>\n",
       "  </tbody>\n",
       "</table>\n",
       "<p>1338 rows × 7 columns</p>\n",
       "</div>"
      ],
      "text/plain": [
       "      age     sex     bmi  children smoker     region      charges\n",
       "0      19  female  27.900         0    yes  southwest  16884.92400\n",
       "1      18    male  33.770         1     no  southeast   1725.55230\n",
       "2      28    male  33.000         3     no  southeast   4449.46200\n",
       "3      33    male  22.705         0     no  northwest  21984.47061\n",
       "4      32    male  28.880         0     no  northwest   3866.85520\n",
       "...   ...     ...     ...       ...    ...        ...          ...\n",
       "1333   50    male  30.970         3     no  northwest  10600.54830\n",
       "1334   18  female  31.920         0     no  northeast   2205.98080\n",
       "1335   18  female  36.850         0     no  southeast   1629.83350\n",
       "1336   21  female  25.800         0     no  southwest   2007.94500\n",
       "1337   61  female  29.070         0    yes  northwest  29141.36030\n",
       "\n",
       "[1338 rows x 7 columns]"
      ]
     },
     "execution_count": 98,
     "metadata": {},
     "output_type": "execute_result"
    }
   ],
   "source": [
    "df2"
   ]
  },
  {
   "cell_type": "code",
   "execution_count": 191,
   "metadata": {},
   "outputs": [],
   "source": [
    "X=df2.iloc[:,:6]\n",
    "Y=df2.iloc[:,-1]#pandas core data frame using pandas hot encoding"
   ]
  },
  {
   "cell_type": "code",
   "execution_count": 192,
   "metadata": {},
   "outputs": [],
   "source": [
    "sex=pd.get_dummies(X['sex'],drop_first=True) # one hot encoding the state feature using pandas\n",
    "Smoker=pd.get_dummies(X['smoker'],drop_first=True)\n",
    "Region=pd.get_dummies(X['region'],drop_first=True)"
   ]
  },
  {
   "cell_type": "code",
   "execution_count": 101,
   "metadata": {},
   "outputs": [
    {
     "data": {
      "text/html": [
       "<div>\n",
       "<style scoped>\n",
       "    .dataframe tbody tr th:only-of-type {\n",
       "        vertical-align: middle;\n",
       "    }\n",
       "\n",
       "    .dataframe tbody tr th {\n",
       "        vertical-align: top;\n",
       "    }\n",
       "\n",
       "    .dataframe thead th {\n",
       "        text-align: right;\n",
       "    }\n",
       "</style>\n",
       "<table border=\"1\" class=\"dataframe\">\n",
       "  <thead>\n",
       "    <tr style=\"text-align: right;\">\n",
       "      <th></th>\n",
       "      <th>male</th>\n",
       "    </tr>\n",
       "  </thead>\n",
       "  <tbody>\n",
       "    <tr>\n",
       "      <th>0</th>\n",
       "      <td>0</td>\n",
       "    </tr>\n",
       "    <tr>\n",
       "      <th>1</th>\n",
       "      <td>1</td>\n",
       "    </tr>\n",
       "    <tr>\n",
       "      <th>2</th>\n",
       "      <td>1</td>\n",
       "    </tr>\n",
       "    <tr>\n",
       "      <th>3</th>\n",
       "      <td>1</td>\n",
       "    </tr>\n",
       "    <tr>\n",
       "      <th>4</th>\n",
       "      <td>1</td>\n",
       "    </tr>\n",
       "    <tr>\n",
       "      <th>...</th>\n",
       "      <td>...</td>\n",
       "    </tr>\n",
       "    <tr>\n",
       "      <th>1333</th>\n",
       "      <td>1</td>\n",
       "    </tr>\n",
       "    <tr>\n",
       "      <th>1334</th>\n",
       "      <td>0</td>\n",
       "    </tr>\n",
       "    <tr>\n",
       "      <th>1335</th>\n",
       "      <td>0</td>\n",
       "    </tr>\n",
       "    <tr>\n",
       "      <th>1336</th>\n",
       "      <td>0</td>\n",
       "    </tr>\n",
       "    <tr>\n",
       "      <th>1337</th>\n",
       "      <td>0</td>\n",
       "    </tr>\n",
       "  </tbody>\n",
       "</table>\n",
       "<p>1338 rows × 1 columns</p>\n",
       "</div>"
      ],
      "text/plain": [
       "      male\n",
       "0        0\n",
       "1        1\n",
       "2        1\n",
       "3        1\n",
       "4        1\n",
       "...    ...\n",
       "1333     1\n",
       "1334     0\n",
       "1335     0\n",
       "1336     0\n",
       "1337     0\n",
       "\n",
       "[1338 rows x 1 columns]"
      ]
     },
     "execution_count": 101,
     "metadata": {},
     "output_type": "execute_result"
    }
   ],
   "source": [
    "sex"
   ]
  },
  {
   "cell_type": "code",
   "execution_count": 188,
   "metadata": {},
   "outputs": [
    {
     "data": {
      "text/plain": [
       "pandas.core.frame.DataFrame"
      ]
     },
     "execution_count": 188,
     "metadata": {},
     "output_type": "execute_result"
    }
   ],
   "source": [
    "type(X)"
   ]
  },
  {
   "cell_type": "code",
   "execution_count": 186,
   "metadata": {},
   "outputs": [
    {
     "data": {
      "text/plain": [
       "pandas.core.frame.DataFrame"
      ]
     },
     "execution_count": 186,
     "metadata": {},
     "output_type": "execute_result"
    }
   ],
   "source": [
    "type(sex)"
   ]
  },
  {
   "cell_type": "code",
   "execution_count": 102,
   "metadata": {},
   "outputs": [],
   "source": [
    "X=pd.concat([X,Sex,Smoker,Region],axis=1)"
   ]
  },
  {
   "cell_type": "code",
   "execution_count": 103,
   "metadata": {},
   "outputs": [
    {
     "data": {
      "text/html": [
       "<div>\n",
       "<style scoped>\n",
       "    .dataframe tbody tr th:only-of-type {\n",
       "        vertical-align: middle;\n",
       "    }\n",
       "\n",
       "    .dataframe tbody tr th {\n",
       "        vertical-align: top;\n",
       "    }\n",
       "\n",
       "    .dataframe thead th {\n",
       "        text-align: right;\n",
       "    }\n",
       "</style>\n",
       "<table border=\"1\" class=\"dataframe\">\n",
       "  <thead>\n",
       "    <tr style=\"text-align: right;\">\n",
       "      <th></th>\n",
       "      <th>age</th>\n",
       "      <th>sex</th>\n",
       "      <th>bmi</th>\n",
       "      <th>children</th>\n",
       "      <th>smoker</th>\n",
       "      <th>region</th>\n",
       "      <th>charges</th>\n",
       "    </tr>\n",
       "  </thead>\n",
       "  <tbody>\n",
       "    <tr>\n",
       "      <th>0</th>\n",
       "      <td>19</td>\n",
       "      <td>female</td>\n",
       "      <td>27.900</td>\n",
       "      <td>0</td>\n",
       "      <td>yes</td>\n",
       "      <td>southwest</td>\n",
       "      <td>16884.92400</td>\n",
       "    </tr>\n",
       "    <tr>\n",
       "      <th>1</th>\n",
       "      <td>18</td>\n",
       "      <td>male</td>\n",
       "      <td>33.770</td>\n",
       "      <td>1</td>\n",
       "      <td>no</td>\n",
       "      <td>southeast</td>\n",
       "      <td>1725.55230</td>\n",
       "    </tr>\n",
       "    <tr>\n",
       "      <th>2</th>\n",
       "      <td>28</td>\n",
       "      <td>male</td>\n",
       "      <td>33.000</td>\n",
       "      <td>3</td>\n",
       "      <td>no</td>\n",
       "      <td>southeast</td>\n",
       "      <td>4449.46200</td>\n",
       "    </tr>\n",
       "    <tr>\n",
       "      <th>3</th>\n",
       "      <td>33</td>\n",
       "      <td>male</td>\n",
       "      <td>22.705</td>\n",
       "      <td>0</td>\n",
       "      <td>no</td>\n",
       "      <td>northwest</td>\n",
       "      <td>21984.47061</td>\n",
       "    </tr>\n",
       "    <tr>\n",
       "      <th>4</th>\n",
       "      <td>32</td>\n",
       "      <td>male</td>\n",
       "      <td>28.880</td>\n",
       "      <td>0</td>\n",
       "      <td>no</td>\n",
       "      <td>northwest</td>\n",
       "      <td>3866.85520</td>\n",
       "    </tr>\n",
       "    <tr>\n",
       "      <th>...</th>\n",
       "      <td>...</td>\n",
       "      <td>...</td>\n",
       "      <td>...</td>\n",
       "      <td>...</td>\n",
       "      <td>...</td>\n",
       "      <td>...</td>\n",
       "      <td>...</td>\n",
       "    </tr>\n",
       "    <tr>\n",
       "      <th>1333</th>\n",
       "      <td>50</td>\n",
       "      <td>male</td>\n",
       "      <td>30.970</td>\n",
       "      <td>3</td>\n",
       "      <td>no</td>\n",
       "      <td>northwest</td>\n",
       "      <td>10600.54830</td>\n",
       "    </tr>\n",
       "    <tr>\n",
       "      <th>1334</th>\n",
       "      <td>18</td>\n",
       "      <td>female</td>\n",
       "      <td>31.920</td>\n",
       "      <td>0</td>\n",
       "      <td>no</td>\n",
       "      <td>northeast</td>\n",
       "      <td>2205.98080</td>\n",
       "    </tr>\n",
       "    <tr>\n",
       "      <th>1335</th>\n",
       "      <td>18</td>\n",
       "      <td>female</td>\n",
       "      <td>36.850</td>\n",
       "      <td>0</td>\n",
       "      <td>no</td>\n",
       "      <td>southeast</td>\n",
       "      <td>1629.83350</td>\n",
       "    </tr>\n",
       "    <tr>\n",
       "      <th>1336</th>\n",
       "      <td>21</td>\n",
       "      <td>female</td>\n",
       "      <td>25.800</td>\n",
       "      <td>0</td>\n",
       "      <td>no</td>\n",
       "      <td>southwest</td>\n",
       "      <td>2007.94500</td>\n",
       "    </tr>\n",
       "    <tr>\n",
       "      <th>1337</th>\n",
       "      <td>61</td>\n",
       "      <td>female</td>\n",
       "      <td>29.070</td>\n",
       "      <td>0</td>\n",
       "      <td>yes</td>\n",
       "      <td>northwest</td>\n",
       "      <td>29141.36030</td>\n",
       "    </tr>\n",
       "  </tbody>\n",
       "</table>\n",
       "<p>1338 rows × 7 columns</p>\n",
       "</div>"
      ],
      "text/plain": [
       "      age     sex     bmi  children smoker     region      charges\n",
       "0      19  female  27.900         0    yes  southwest  16884.92400\n",
       "1      18    male  33.770         1     no  southeast   1725.55230\n",
       "2      28    male  33.000         3     no  southeast   4449.46200\n",
       "3      33    male  22.705         0     no  northwest  21984.47061\n",
       "4      32    male  28.880         0     no  northwest   3866.85520\n",
       "...   ...     ...     ...       ...    ...        ...          ...\n",
       "1333   50    male  30.970         3     no  northwest  10600.54830\n",
       "1334   18  female  31.920         0     no  northeast   2205.98080\n",
       "1335   18  female  36.850         0     no  southeast   1629.83350\n",
       "1336   21  female  25.800         0     no  southwest   2007.94500\n",
       "1337   61  female  29.070         0    yes  northwest  29141.36030\n",
       "\n",
       "[1338 rows x 7 columns]"
      ]
     },
     "execution_count": 103,
     "metadata": {},
     "output_type": "execute_result"
    }
   ],
   "source": [
    "df2"
   ]
  },
  {
   "cell_type": "code",
   "execution_count": 106,
   "metadata": {},
   "outputs": [],
   "source": [
    "X=X.drop(['sex','region','smoker'],axis=1)"
   ]
  },
  {
   "cell_type": "code",
   "execution_count": 107,
   "metadata": {},
   "outputs": [
    {
     "data": {
      "text/html": [
       "<div>\n",
       "<style scoped>\n",
       "    .dataframe tbody tr th:only-of-type {\n",
       "        vertical-align: middle;\n",
       "    }\n",
       "\n",
       "    .dataframe tbody tr th {\n",
       "        vertical-align: top;\n",
       "    }\n",
       "\n",
       "    .dataframe thead th {\n",
       "        text-align: right;\n",
       "    }\n",
       "</style>\n",
       "<table border=\"1\" class=\"dataframe\">\n",
       "  <thead>\n",
       "    <tr style=\"text-align: right;\">\n",
       "      <th></th>\n",
       "      <th>age</th>\n",
       "      <th>bmi</th>\n",
       "      <th>children</th>\n",
       "      <th>male</th>\n",
       "      <th>yes</th>\n",
       "      <th>northwest</th>\n",
       "      <th>southeast</th>\n",
       "      <th>southwest</th>\n",
       "    </tr>\n",
       "  </thead>\n",
       "  <tbody>\n",
       "    <tr>\n",
       "      <th>0</th>\n",
       "      <td>19</td>\n",
       "      <td>27.900</td>\n",
       "      <td>0</td>\n",
       "      <td>0</td>\n",
       "      <td>1</td>\n",
       "      <td>0</td>\n",
       "      <td>0</td>\n",
       "      <td>1</td>\n",
       "    </tr>\n",
       "    <tr>\n",
       "      <th>1</th>\n",
       "      <td>18</td>\n",
       "      <td>33.770</td>\n",
       "      <td>1</td>\n",
       "      <td>1</td>\n",
       "      <td>0</td>\n",
       "      <td>0</td>\n",
       "      <td>1</td>\n",
       "      <td>0</td>\n",
       "    </tr>\n",
       "    <tr>\n",
       "      <th>2</th>\n",
       "      <td>28</td>\n",
       "      <td>33.000</td>\n",
       "      <td>3</td>\n",
       "      <td>1</td>\n",
       "      <td>0</td>\n",
       "      <td>0</td>\n",
       "      <td>1</td>\n",
       "      <td>0</td>\n",
       "    </tr>\n",
       "    <tr>\n",
       "      <th>3</th>\n",
       "      <td>33</td>\n",
       "      <td>22.705</td>\n",
       "      <td>0</td>\n",
       "      <td>1</td>\n",
       "      <td>0</td>\n",
       "      <td>1</td>\n",
       "      <td>0</td>\n",
       "      <td>0</td>\n",
       "    </tr>\n",
       "    <tr>\n",
       "      <th>4</th>\n",
       "      <td>32</td>\n",
       "      <td>28.880</td>\n",
       "      <td>0</td>\n",
       "      <td>1</td>\n",
       "      <td>0</td>\n",
       "      <td>1</td>\n",
       "      <td>0</td>\n",
       "      <td>0</td>\n",
       "    </tr>\n",
       "    <tr>\n",
       "      <th>...</th>\n",
       "      <td>...</td>\n",
       "      <td>...</td>\n",
       "      <td>...</td>\n",
       "      <td>...</td>\n",
       "      <td>...</td>\n",
       "      <td>...</td>\n",
       "      <td>...</td>\n",
       "      <td>...</td>\n",
       "    </tr>\n",
       "    <tr>\n",
       "      <th>1333</th>\n",
       "      <td>50</td>\n",
       "      <td>30.970</td>\n",
       "      <td>3</td>\n",
       "      <td>1</td>\n",
       "      <td>0</td>\n",
       "      <td>1</td>\n",
       "      <td>0</td>\n",
       "      <td>0</td>\n",
       "    </tr>\n",
       "    <tr>\n",
       "      <th>1334</th>\n",
       "      <td>18</td>\n",
       "      <td>31.920</td>\n",
       "      <td>0</td>\n",
       "      <td>0</td>\n",
       "      <td>0</td>\n",
       "      <td>0</td>\n",
       "      <td>0</td>\n",
       "      <td>0</td>\n",
       "    </tr>\n",
       "    <tr>\n",
       "      <th>1335</th>\n",
       "      <td>18</td>\n",
       "      <td>36.850</td>\n",
       "      <td>0</td>\n",
       "      <td>0</td>\n",
       "      <td>0</td>\n",
       "      <td>0</td>\n",
       "      <td>1</td>\n",
       "      <td>0</td>\n",
       "    </tr>\n",
       "    <tr>\n",
       "      <th>1336</th>\n",
       "      <td>21</td>\n",
       "      <td>25.800</td>\n",
       "      <td>0</td>\n",
       "      <td>0</td>\n",
       "      <td>0</td>\n",
       "      <td>0</td>\n",
       "      <td>0</td>\n",
       "      <td>1</td>\n",
       "    </tr>\n",
       "    <tr>\n",
       "      <th>1337</th>\n",
       "      <td>61</td>\n",
       "      <td>29.070</td>\n",
       "      <td>0</td>\n",
       "      <td>0</td>\n",
       "      <td>1</td>\n",
       "      <td>1</td>\n",
       "      <td>0</td>\n",
       "      <td>0</td>\n",
       "    </tr>\n",
       "  </tbody>\n",
       "</table>\n",
       "<p>1338 rows × 8 columns</p>\n",
       "</div>"
      ],
      "text/plain": [
       "      age     bmi  children  male  yes  northwest  southeast  southwest\n",
       "0      19  27.900         0     0    1          0          0          1\n",
       "1      18  33.770         1     1    0          0          1          0\n",
       "2      28  33.000         3     1    0          0          1          0\n",
       "3      33  22.705         0     1    0          1          0          0\n",
       "4      32  28.880         0     1    0          1          0          0\n",
       "...   ...     ...       ...   ...  ...        ...        ...        ...\n",
       "1333   50  30.970         3     1    0          1          0          0\n",
       "1334   18  31.920         0     0    0          0          0          0\n",
       "1335   18  36.850         0     0    0          0          1          0\n",
       "1336   21  25.800         0     0    0          0          0          1\n",
       "1337   61  29.070         0     0    1          1          0          0\n",
       "\n",
       "[1338 rows x 8 columns]"
      ]
     },
     "execution_count": 107,
     "metadata": {},
     "output_type": "execute_result"
    }
   ],
   "source": [
    "X"
   ]
  },
  {
   "cell_type": "code",
   "execution_count": 108,
   "metadata": {},
   "outputs": [
    {
     "data": {
      "text/plain": [
       "0       16884.92400\n",
       "1        1725.55230\n",
       "2        4449.46200\n",
       "3       21984.47061\n",
       "4        3866.85520\n",
       "           ...     \n",
       "1333    10600.54830\n",
       "1334     2205.98080\n",
       "1335     1629.83350\n",
       "1336     2007.94500\n",
       "1337    29141.36030\n",
       "Name: charges, Length: 1338, dtype: float64"
      ]
     },
     "execution_count": 108,
     "metadata": {},
     "output_type": "execute_result"
    }
   ],
   "source": [
    "Y"
   ]
  },
  {
   "cell_type": "code",
   "execution_count": 111,
   "metadata": {},
   "outputs": [],
   "source": [
    "X['bmi']=X['bmi'].astype(int)"
   ]
  },
  {
   "cell_type": "code",
   "execution_count": 113,
   "metadata": {},
   "outputs": [
    {
     "data": {
      "text/html": [
       "<div>\n",
       "<style scoped>\n",
       "    .dataframe tbody tr th:only-of-type {\n",
       "        vertical-align: middle;\n",
       "    }\n",
       "\n",
       "    .dataframe tbody tr th {\n",
       "        vertical-align: top;\n",
       "    }\n",
       "\n",
       "    .dataframe thead th {\n",
       "        text-align: right;\n",
       "    }\n",
       "</style>\n",
       "<table border=\"1\" class=\"dataframe\">\n",
       "  <thead>\n",
       "    <tr style=\"text-align: right;\">\n",
       "      <th></th>\n",
       "      <th>age</th>\n",
       "      <th>bmi</th>\n",
       "      <th>children</th>\n",
       "      <th>male</th>\n",
       "      <th>yes</th>\n",
       "      <th>northwest</th>\n",
       "      <th>southeast</th>\n",
       "      <th>southwest</th>\n",
       "    </tr>\n",
       "  </thead>\n",
       "  <tbody>\n",
       "    <tr>\n",
       "      <th>0</th>\n",
       "      <td>19</td>\n",
       "      <td>27</td>\n",
       "      <td>0</td>\n",
       "      <td>0</td>\n",
       "      <td>1</td>\n",
       "      <td>0</td>\n",
       "      <td>0</td>\n",
       "      <td>1</td>\n",
       "    </tr>\n",
       "    <tr>\n",
       "      <th>1</th>\n",
       "      <td>18</td>\n",
       "      <td>33</td>\n",
       "      <td>1</td>\n",
       "      <td>1</td>\n",
       "      <td>0</td>\n",
       "      <td>0</td>\n",
       "      <td>1</td>\n",
       "      <td>0</td>\n",
       "    </tr>\n",
       "    <tr>\n",
       "      <th>2</th>\n",
       "      <td>28</td>\n",
       "      <td>33</td>\n",
       "      <td>3</td>\n",
       "      <td>1</td>\n",
       "      <td>0</td>\n",
       "      <td>0</td>\n",
       "      <td>1</td>\n",
       "      <td>0</td>\n",
       "    </tr>\n",
       "    <tr>\n",
       "      <th>3</th>\n",
       "      <td>33</td>\n",
       "      <td>22</td>\n",
       "      <td>0</td>\n",
       "      <td>1</td>\n",
       "      <td>0</td>\n",
       "      <td>1</td>\n",
       "      <td>0</td>\n",
       "      <td>0</td>\n",
       "    </tr>\n",
       "    <tr>\n",
       "      <th>4</th>\n",
       "      <td>32</td>\n",
       "      <td>28</td>\n",
       "      <td>0</td>\n",
       "      <td>1</td>\n",
       "      <td>0</td>\n",
       "      <td>1</td>\n",
       "      <td>0</td>\n",
       "      <td>0</td>\n",
       "    </tr>\n",
       "    <tr>\n",
       "      <th>...</th>\n",
       "      <td>...</td>\n",
       "      <td>...</td>\n",
       "      <td>...</td>\n",
       "      <td>...</td>\n",
       "      <td>...</td>\n",
       "      <td>...</td>\n",
       "      <td>...</td>\n",
       "      <td>...</td>\n",
       "    </tr>\n",
       "    <tr>\n",
       "      <th>1333</th>\n",
       "      <td>50</td>\n",
       "      <td>30</td>\n",
       "      <td>3</td>\n",
       "      <td>1</td>\n",
       "      <td>0</td>\n",
       "      <td>1</td>\n",
       "      <td>0</td>\n",
       "      <td>0</td>\n",
       "    </tr>\n",
       "    <tr>\n",
       "      <th>1334</th>\n",
       "      <td>18</td>\n",
       "      <td>31</td>\n",
       "      <td>0</td>\n",
       "      <td>0</td>\n",
       "      <td>0</td>\n",
       "      <td>0</td>\n",
       "      <td>0</td>\n",
       "      <td>0</td>\n",
       "    </tr>\n",
       "    <tr>\n",
       "      <th>1335</th>\n",
       "      <td>18</td>\n",
       "      <td>36</td>\n",
       "      <td>0</td>\n",
       "      <td>0</td>\n",
       "      <td>0</td>\n",
       "      <td>0</td>\n",
       "      <td>1</td>\n",
       "      <td>0</td>\n",
       "    </tr>\n",
       "    <tr>\n",
       "      <th>1336</th>\n",
       "      <td>21</td>\n",
       "      <td>25</td>\n",
       "      <td>0</td>\n",
       "      <td>0</td>\n",
       "      <td>0</td>\n",
       "      <td>0</td>\n",
       "      <td>0</td>\n",
       "      <td>1</td>\n",
       "    </tr>\n",
       "    <tr>\n",
       "      <th>1337</th>\n",
       "      <td>61</td>\n",
       "      <td>29</td>\n",
       "      <td>0</td>\n",
       "      <td>0</td>\n",
       "      <td>1</td>\n",
       "      <td>1</td>\n",
       "      <td>0</td>\n",
       "      <td>0</td>\n",
       "    </tr>\n",
       "  </tbody>\n",
       "</table>\n",
       "<p>1338 rows × 8 columns</p>\n",
       "</div>"
      ],
      "text/plain": [
       "      age  bmi  children  male  yes  northwest  southeast  southwest\n",
       "0      19   27         0     0    1          0          0          1\n",
       "1      18   33         1     1    0          0          1          0\n",
       "2      28   33         3     1    0          0          1          0\n",
       "3      33   22         0     1    0          1          0          0\n",
       "4      32   28         0     1    0          1          0          0\n",
       "...   ...  ...       ...   ...  ...        ...        ...        ...\n",
       "1333   50   30         3     1    0          1          0          0\n",
       "1334   18   31         0     0    0          0          0          0\n",
       "1335   18   36         0     0    0          0          1          0\n",
       "1336   21   25         0     0    0          0          0          1\n",
       "1337   61   29         0     0    1          1          0          0\n",
       "\n",
       "[1338 rows x 8 columns]"
      ]
     },
     "execution_count": 113,
     "metadata": {},
     "output_type": "execute_result"
    }
   ],
   "source": [
    "X"
   ]
  },
  {
   "cell_type": "code",
   "execution_count": 138,
   "metadata": {},
   "outputs": [],
   "source": [
    "from sklearn.model_selection import train_test_split\n",
    "X_train, X_test, Y_train, Y_test = train_test_split(X, Y, test_size = 0.2, random_state = 0)"
   ]
  },
  {
   "cell_type": "code",
   "execution_count": 151,
   "metadata": {},
   "outputs": [],
   "source": [
    "lrm2=LinearRegression()\n"
   ]
  },
  {
   "cell_type": "code",
   "execution_count": 152,
   "metadata": {},
   "outputs": [
    {
     "data": {
      "text/plain": [
       "LinearRegression()"
      ]
     },
     "execution_count": 152,
     "metadata": {},
     "output_type": "execute_result"
    }
   ],
   "source": [
    "lrm2.fit(X_train,Y_train)"
   ]
  },
  {
   "cell_type": "code",
   "execution_count": 153,
   "metadata": {
    "scrolled": true
   },
   "outputs": [
    {
     "data": {
      "text/plain": [
       "array([11261.66232226,  9515.28955016, 38176.06863249, 16303.77785219,\n",
       "        7073.28435026,  4003.91734806,  1637.40019211, 14434.92640387,\n",
       "        9123.72730844,  7667.20451508,  4672.35452327, 10385.50093376,\n",
       "        8658.52331796,  3844.65877348, 27940.00115399, 10823.33575584,\n",
       "       11353.69325858,  6105.23703779,  8331.24179024, 27088.34353221,\n",
       "       33569.99152668, 14256.05197351, 11605.99743536, 32020.76921871,\n",
       "        4056.85237714,  9304.88011593,  1155.60298841,  9963.31703632,\n",
       "        3672.65502958, 10442.79780752,  8960.27707154, 40187.15336024,\n",
       "       15705.97201172, 13929.86997524, 24764.59391127,  5017.60052116,\n",
       "       12705.92857707, 30802.43794046, 33478.48062491,  3723.41860733,\n",
       "        3856.34184885,  3820.23052879, 30567.37599371, 39371.54133281,\n",
       "       27681.71803769,  5040.08781033, 10487.88177503,  7898.63849753,\n",
       "        3446.03343604, 10039.85428887,  5589.67635031,  3296.51698131,\n",
       "       33193.3833411 , 38641.46126762, 15890.598006  ,  7177.8999052 ,\n",
       "        5742.67578816,  9487.31259665,  8907.31063868, 11794.85005829,\n",
       "        1776.54510327, 38814.88969711, 15022.01954571, 11866.26935887,\n",
       "       14017.10435111, 14042.89402483, 25906.84827753, 32291.11088736,\n",
       "         675.86408224, 10056.46709517, 12449.03205981, 11365.7954744 ,\n",
       "       25312.36441468, 15481.97241374, 11369.56799627, 12629.46639177,\n",
       "        6614.50050199,  9514.83900593, 30181.4958256 , 39175.49039813,\n",
       "       11950.00492316, 37379.47940458,  4395.62833557,  9485.56028578,\n",
       "       34707.08008927, 28917.82490823,  8706.0344084 ,  5075.08980418,\n",
       "       12031.40241632, 30533.28488465, 10203.06845304, 11246.2381288 ,\n",
       "        8445.31194065,  8778.08066356,  8364.81909852,  7308.03096879,\n",
       "       35968.85371459, 33290.532653  ,  7577.37643386, 15189.96078001,\n",
       "        3975.12725869,  8724.44318904,  6477.41388837, 31562.05486076,\n",
       "       33069.40448842,  1990.15359618,  9151.78912553,  6604.78420899,\n",
       "       14454.31179501, 37138.78881285, 10164.30327886, 10658.99066424,\n",
       "       10107.79437095, 26916.33978831, 40015.14961633,  8593.33175033,\n",
       "         458.7068805 ,  8971.23187462, 15385.94222436,  9460.41356556,\n",
       "       34997.08127717,  7327.01321261, 16900.21243572,  9679.73599065,\n",
       "        8241.3442187 ,  3044.4709395 , 33054.23842994, 31376.71039095,\n",
       "       39486.96667848,  5483.71539644,  9195.25976281,  3483.09372743,\n",
       "        7567.18376978,  8652.76198888, 31900.76132887, 29870.93043004,\n",
       "       29729.88822684,  8704.90905211, 32307.02928852,  3413.24409361,\n",
       "        3568.59136775, 11091.41088922, 13131.66118333, 12768.48838398,\n",
       "        5533.3536179 , 15400.24729529, 14908.21376404,  2528.45970779,\n",
       "         -55.55204034, 10861.46731806,  7488.5882197 , 31962.12694601,\n",
       "       12448.45859663,  2476.73178502,  6439.65115154,  7739.18751369,\n",
       "        4501.33115448,  2141.27780422, 11497.56569508, 12413.64901204,\n",
       "        7241.27949956, 16218.73075612, 11705.02197707, 14027.01928714,\n",
       "        3176.88038024,  7256.70369302, 23061.78640518,  7601.16172506,\n",
       "        5361.15746473,  5070.53555024,  6882.04022757,  5041.12767738,\n",
       "        9951.2148205 ,  5235.21806346,  5800.75436283,  6582.66616304,\n",
       "        3699.31175416,  5460.18200645, 37971.78558233,  1621.52545442,\n",
       "       12570.22856249,  8854.1237084 , 13947.04647956,  5325.49668891,\n",
       "        5221.68492828, 36403.13982785,  4313.71080786,  2070.12640376,\n",
       "       15068.11529212, 12733.48639013, 35035.66338363,  4628.14024044,\n",
       "        5540.60535826, 31252.26140096,  6163.17686505,  2038.82747262,\n",
       "        8331.04938098, 10121.34333459,  8057.08393625,  5778.52897325,\n",
       "       13225.51992138, 38331.00902586, 13666.86913035, 28755.94433809,\n",
       "        6718.58999066, 35481.01184566,  3609.03312871, 12004.17222856,\n",
       "        8924.42388645,  6396.47673577, 11433.73555648, 14478.7400397 ,\n",
       "        5244.62276169,  4484.60519439,  7799.73687476,  1367.91951101,\n",
       "        7847.56935672,  4542.67400391, 12771.44153622,  4321.47634901,\n",
       "       10276.36298343,  7282.81475826,  9150.55684921,  2407.14028617,\n",
       "       13365.11537677, 16729.51045845, 14923.63795749, 10681.48353033,\n",
       "        5414.53680428,  2134.40711777,  2035.57498531, 13527.9921505 ,\n",
       "       14131.60298352,  5079.29729497,  3696.63273003,  9582.70959768,\n",
       "       10025.87684324, 28438.71296243,  7808.16746282, 10393.8620315 ,\n",
       "        6277.81424487, 29835.54738227, 11275.85423939,  7645.16777015,\n",
       "       10376.49688252, 12366.92588744,  2929.5716601 , 10851.87394401,\n",
       "        1645.95369911,  6892.08414586, 28483.98933921, 38798.16373702,\n",
       "        6463.55936167,  8294.15632884,  2643.76213452,   279.70953121,\n",
       "       10491.92222819,  4064.17360783,  4908.71823665,  2427.98841826,\n",
       "        6855.18485995, 33381.26182269, 38415.86371268, 14772.06320522,\n",
       "        8315.81759679, 16213.30681748, 33056.29672748,  9378.49603785])"
      ]
     },
     "execution_count": 153,
     "metadata": {},
     "output_type": "execute_result"
    }
   ],
   "source": [
    "lrm2.predict(X_test)"
   ]
  },
  {
   "cell_type": "code",
   "execution_count": 159,
   "metadata": {},
   "outputs": [
    {
     "data": {
      "text/plain": [
       "0.7995794097772186"
      ]
     },
     "execution_count": 159,
     "metadata": {},
     "output_type": "execute_result"
    }
   ],
   "source": [
    "from sklearn.metrics import accuracy_score\n",
    "regression_model_sklearn_accuracy=lrm2.score(X_test,Y_test)\n",
    "regression_model_sklearn_accuracy\n"
   ]
  },
  {
   "cell_type": "code",
   "execution_count": 154,
   "metadata": {},
   "outputs": [],
   "source": [
    "#accuracy is same as column transformer and pandas hot encoding"
   ]
  },
  {
   "cell_type": "code",
   "execution_count": 193,
   "metadata": {},
   "outputs": [],
   "source": [
    "import seaborn as sns"
   ]
  },
  {
   "cell_type": "code",
   "execution_count": 194,
   "metadata": {},
   "outputs": [
    {
     "data": {
      "text/plain": [
       "Index(['age', 'sex', 'bmi', 'children', 'smoker', 'region', 'charges'], dtype='object')"
      ]
     },
     "execution_count": 194,
     "metadata": {},
     "output_type": "execute_result"
    }
   ],
   "source": [
    "df1.columns"
   ]
  },
  {
   "cell_type": "code",
   "execution_count": 199,
   "metadata": {},
   "outputs": [
    {
     "data": {
      "text/plain": [
       "<matplotlib.axes._subplots.AxesSubplot at 0x7fedac681760>"
      ]
     },
     "execution_count": 199,
     "metadata": {},
     "output_type": "execute_result"
    },
    {
     "data": {
      "image/png": "[encoded data removed]",
      "text/plain": [
       "<Figure size 432x288 with 1 Axes>"
      ]
     },
     "metadata": {
      "needs_background": "light"
     },
     "output_type": "display_data"
    }
   ],
   "source": [
    "sns.scatterplot(X_test.bmi,Y_test)"
   ]
  },
  {
   "cell_type": "code",
   "execution_count": 201,
   "metadata": {},
   "outputs": [
    {
     "data": {
      "text/plain": [
       "<matplotlib.axes._subplots.AxesSubplot at 0x7fedac6d50a0>"
      ]
     },
     "execution_count": 201,
     "metadata": {},
     "output_type": "execute_result"
    },
    {
     "data": {
      "image/png": "[encoded data removed]",
      "text/plain": [
       "<Figure size 432x288 with 1 Axes>"
      ]
     },
     "metadata": {
      "needs_background": "light"
     },
     "output_type": "display_data"
    }
   ],
   "source": [
    "sns.boxplot(df1.charges)"
   ]
  },
  {
   "cell_type": "code",
   "execution_count": null,
   "metadata": {},
   "outputs": [],
   "source": [
    "# remove the outliers of target variable and train it ,,, so we may get high accuracy "
   ]
  }
 ],
 "metadata": {
  "kernelspec": {
   "display_name": "Python 3",
   "language": "python",
   "name": "python3"
  },
  "language_info": {
   "codemirror_mode": {
    "name": "ipython",
    "version": 3
   },
   "file_extension": ".py",
   "mimetype": "text/x-python",
   "name": "python",
   "nbconvert_exporter": "python",
   "pygments_lexer": "ipython3",
   "version": "3.8.3"
  }
 },
 "nbformat": 4,
 "nbformat_minor": 4
}
